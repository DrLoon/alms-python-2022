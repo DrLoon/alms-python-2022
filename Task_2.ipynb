{
 "cells": [
  {
   "cell_type": "markdown",
   "metadata": {},
   "source": [
    "# Задание 2.\n",
    "\n",
    "**NB. Все упражнения ниже нужно делать без использования циклов Python в явном (`while`, `for`) и неявном виде (list comprehension, `map`, `reduce` и пр)**\n",
    "\n",
    "Задания по манипуляциям с массивами чаще всего решаются в одно/два выражения. "
   ]
  },
  {
   "cell_type": "code",
   "execution_count": 2,
   "metadata": {},
   "outputs": [
    {
     "data": {
      "text/plain": [
       "array([[70, 65, 70, ..., 40, 83, 96],\n",
       "       [52, 59, 47, ..., 85, 73, 40],\n",
       "       [28, 56, 58, ..., 85,  0, 19],\n",
       "       ...,\n",
       "       [16, 16,  7, ..., 57, 82,  5],\n",
       "       [23, 82, 66, ..., 24, 17, 62],\n",
       "       [43, 54, 35, ..., 73, 72, 13]])"
      ]
     },
     "execution_count": 2,
     "metadata": {},
     "output_type": "execute_result"
    }
   ],
   "source": [
    "%matplotlib inline\n",
    "\n",
    "import numpy as np\n",
    "import matplotlib.pyplot as plt\n",
    "import seaborn as sns\n",
    "sns.set_theme()\n",
    "\n",
    "A = np.random.randint(0, 100, size=(200, 50))\n",
    "A"
   ]
  },
  {
   "cell_type": "markdown",
   "metadata": {},
   "source": [
    "# Задание 2.1 (2 балла)\n",
    "\n",
    "Сгенерируйте новый массив, в котором столбцы массива `A` переставлены в случайном порядке"
   ]
  },
  {
   "cell_type": "code",
   "execution_count": 3,
   "metadata": {},
   "outputs": [
    {
     "data": {
      "text/plain": [
       "array([[30, 46, 91, ..., 70, 20, 46],\n",
       "       [30, 89, 23, ..., 47, 87, 54],\n",
       "       [ 9, 11, 41, ..., 58, 74, 10],\n",
       "       ...,\n",
       "       [28, 55, 35, ...,  7, 23, 87],\n",
       "       [61, 92, 11, ..., 66, 67, 70],\n",
       "       [42, 78, 41, ..., 35, 43, 97]])"
      ]
     },
     "execution_count": 3,
     "metadata": {},
     "output_type": "execute_result"
    }
   ],
   "source": [
    "new_order = list(range(A.shape[1]))\n",
    "np.random.shuffle(new_order)\n",
    "res=A[:, new_order]\n",
    "res"
   ]
  },
  {
   "cell_type": "markdown",
   "metadata": {},
   "source": [
    "# Задание 2.2 (5 баллов)\n",
    "\n",
    "Сгенерируйте новый массив, который содержит только те строки массива `A`, в которых: \n",
    "- сумма элементов по четным столбцам (индексы $0, 2, \\ldots$) больше среднего значения (по всему массиву) суммы элементов по нечетным столбцам (индексы $1, 3, \\ldots$) "
   ]
  },
  {
   "cell_type": "code",
   "execution_count": 4,
   "metadata": {},
   "outputs": [
    {
     "data": {
      "text/plain": [
       "array([], shape=(0, 50), dtype=int32)"
      ]
     },
     "execution_count": 4,
     "metadata": {},
     "output_type": "execute_result"
    }
   ],
   "source": [
    "odd_sum_mean = A[:, 1::2].sum(axis=0).mean()\n",
    "even = A[:, ::2].sum(axis=1)\n",
    "A[even > odd_sum_mean, :]"
   ]
  },
  {
   "cell_type": "markdown",
   "metadata": {},
   "source": [
    "# Задача 2.3 (3 балла)\n",
    "\n",
    "Найдите индекс строки массива `A`, в которой разница между максимальным и минимальным элементом максимальна"
   ]
  },
  {
   "cell_type": "code",
   "execution_count": 5,
   "metadata": {},
   "outputs": [
    {
     "data": {
      "text/plain": [
       "0"
      ]
     },
     "execution_count": 5,
     "metadata": {},
     "output_type": "execute_result"
    }
   ],
   "source": [
    "diff = np.max(A, axis=1) - np.min(A, axis=1)\n",
    "np.argmax(diff)"
   ]
  },
  {
   "cell_type": "markdown",
   "metadata": {},
   "source": [
    "# Задание 2.4 (7 баллов)\n",
    "\n",
    "Сгенерируйте массив той же размерности, что и `A`, но в котором каждый элемент заменен на его порядковый номер (начиная с 1) в отсортированном по возрастанию массиве из элементов `A`\n",
    "\n",
    "Если `A` выглядит так:\n",
    "$$\n",
    "\\begin{pmatrix}\n",
    "12 & 14\\\\\n",
    "1 & 2\n",
    "\\end{pmatrix}\n",
    "$$\n",
    "то результат должен быть\n",
    "$$\n",
    "\\begin{pmatrix}\n",
    "3 & 4\\\\\n",
    "1 & 2\n",
    "\\end{pmatrix}\n",
    "$$\n",
    "\n",
    "*Tip: рассмотрите возможность неоднократного применения [argsort()](https://numpy.org/doc/stable/reference/generated/numpy.ndarray.argsort.html)*"
   ]
  },
  {
   "cell_type": "code",
   "execution_count": 6,
   "metadata": {},
   "outputs": [
    {
     "data": {
      "text/plain": [
       "array([[7076., 6632., 7043., ..., 4095., 8305., 9665.],\n",
       "       [5285., 6102., 4886., ..., 8570., 7343., 4126.],\n",
       "       [2889., 5734., 5943., ..., 8574.,   37., 1896.],\n",
       "       ...,\n",
       "       [1635., 1625.,  708., ..., 5847., 8230.,  499.],\n",
       "       [2404., 8233., 6714., ..., 2506., 1724., 6356.],\n",
       "       [4377., 5583., 3601., ..., 7323., 7283., 1311.]])"
      ]
     },
     "execution_count": 6,
     "metadata": {},
     "output_type": "execute_result"
    }
   ],
   "source": [
    "np.argsort(np.argsort(A.flatten())).reshape(A.shape) + np.ones(A.shape)"
   ]
  },
  {
   "cell_type": "markdown",
   "metadata": {},
   "source": [
    "# Задание 2.5 (2 балла)\n",
    "\n",
    "Примените $\\min-\\max$ - нормализацию к строкам массива `A`. То есть нужно получить новый массивы, в каждой строке которого максимальный элементы равен $1$, минимальный - $0$. "
   ]
  },
  {
   "cell_type": "code",
   "execution_count": 7,
   "metadata": {},
   "outputs": [
    {
     "data": {
      "text/plain": [
       "array([[0.70707071, 0.65656566, 0.70707071, ..., 0.4040404 , 0.83838384,\n",
       "        0.96969697],\n",
       "       [0.56976744, 0.65116279, 0.51162791, ..., 0.95348837, 0.81395349,\n",
       "        0.43023256],\n",
       "       [0.29787234, 0.59574468, 0.61702128, ..., 0.90425532, 0.        ,\n",
       "        0.20212766],\n",
       "       ...,\n",
       "       [0.15217391, 0.15217391, 0.05434783, ..., 0.59782609, 0.86956522,\n",
       "        0.0326087 ],\n",
       "       [0.23232323, 0.82828283, 0.66666667, ..., 0.24242424, 0.17171717,\n",
       "        0.62626263],\n",
       "       [0.42857143, 0.54081633, 0.34693878, ..., 0.73469388, 0.7244898 ,\n",
       "        0.12244898]])"
      ]
     },
     "execution_count": 7,
     "metadata": {},
     "output_type": "execute_result"
    }
   ],
   "source": [
    "m = np.min(A, axis=1)[:, np.newaxis]\n",
    "M = np.max(A, axis=1)[:, np.newaxis]\n",
    "(A - m) / (M - m)"
   ]
  },
  {
   "cell_type": "markdown",
   "metadata": {},
   "source": [
    "# Задание 2.6 (2 балла)\n",
    "\n",
    "Сгенерируйте новый трехмерный массив, размерности $10 \\times 200 \\times 50$. Подмассивы по нулевой оси должны состоять из элементов `A`, умноженных на $1 - 10$ соответственно"
   ]
  },
  {
   "cell_type": "code",
   "execution_count": 8,
   "metadata": {},
   "outputs": [
    {
     "data": {
      "text/plain": [
       "array([[[ 70,  65,  70, ...,  40,  83,  96],\n",
       "        [ 52,  59,  47, ...,  85,  73,  40],\n",
       "        [ 28,  56,  58, ...,  85,   0,  19],\n",
       "        ...,\n",
       "        [ 16,  16,   7, ...,  57,  82,   5],\n",
       "        [ 23,  82,  66, ...,  24,  17,  62],\n",
       "        [ 43,  54,  35, ...,  73,  72,  13]],\n",
       "\n",
       "       [[140, 130, 140, ...,  80, 166, 192],\n",
       "        [104, 118,  94, ..., 170, 146,  80],\n",
       "        [ 56, 112, 116, ..., 170,   0,  38],\n",
       "        ...,\n",
       "        [ 32,  32,  14, ..., 114, 164,  10],\n",
       "        [ 46, 164, 132, ...,  48,  34, 124],\n",
       "        [ 86, 108,  70, ..., 146, 144,  26]],\n",
       "\n",
       "       [[210, 195, 210, ..., 120, 249, 288],\n",
       "        [156, 177, 141, ..., 255, 219, 120],\n",
       "        [ 84, 168, 174, ..., 255,   0,  57],\n",
       "        ...,\n",
       "        [ 48,  48,  21, ..., 171, 246,  15],\n",
       "        [ 69, 246, 198, ...,  72,  51, 186],\n",
       "        [129, 162, 105, ..., 219, 216,  39]],\n",
       "\n",
       "       ...,\n",
       "\n",
       "       [[560, 520, 560, ..., 320, 664, 768],\n",
       "        [416, 472, 376, ..., 680, 584, 320],\n",
       "        [224, 448, 464, ..., 680,   0, 152],\n",
       "        ...,\n",
       "        [128, 128,  56, ..., 456, 656,  40],\n",
       "        [184, 656, 528, ..., 192, 136, 496],\n",
       "        [344, 432, 280, ..., 584, 576, 104]],\n",
       "\n",
       "       [[630, 585, 630, ..., 360, 747, 864],\n",
       "        [468, 531, 423, ..., 765, 657, 360],\n",
       "        [252, 504, 522, ..., 765,   0, 171],\n",
       "        ...,\n",
       "        [144, 144,  63, ..., 513, 738,  45],\n",
       "        [207, 738, 594, ..., 216, 153, 558],\n",
       "        [387, 486, 315, ..., 657, 648, 117]],\n",
       "\n",
       "       [[700, 650, 700, ..., 400, 830, 960],\n",
       "        [520, 590, 470, ..., 850, 730, 400],\n",
       "        [280, 560, 580, ..., 850,   0, 190],\n",
       "        ...,\n",
       "        [160, 160,  70, ..., 570, 820,  50],\n",
       "        [230, 820, 660, ..., 240, 170, 620],\n",
       "        [430, 540, 350, ..., 730, 720, 130]]])"
      ]
     },
     "execution_count": 8,
     "metadata": {},
     "output_type": "execute_result"
    }
   ],
   "source": [
    "np.tile(A, (10, 1, 1)) * np.array(range(1, 11))[:, None, None]"
   ]
  },
  {
   "cell_type": "markdown",
   "metadata": {},
   "source": [
    "# Задание 2.7 (2 балла)\n",
    "\n",
    "Создайте новый массив, такой же размерности, как и `A`, в котором сначала сгруппированы четные столбцы `A`, потом  нечетные. Используйте [np.concat()](https://numpy.org/doc/stable/reference/generated/numpy.concatenate.html) "
   ]
  },
  {
   "cell_type": "code",
   "execution_count": 9,
   "metadata": {},
   "outputs": [
    {
     "data": {
      "text/plain": [
       "array([[70, 70,  1, ..., 97, 40, 96],\n",
       "       [52, 47, 29, ...,  4, 85, 40],\n",
       "       [28, 58, 42, ..., 87, 85, 19],\n",
       "       ...,\n",
       "       [16,  7,  2, ..., 42, 57,  5],\n",
       "       [23, 66, 15, ..., 66, 24, 62],\n",
       "       [43, 35, 24, ..., 96, 73, 13]])"
      ]
     },
     "execution_count": 9,
     "metadata": {},
     "output_type": "execute_result"
    }
   ],
   "source": [
    "even = A[:, ::2]\n",
    "odd = A[:, 1::2]\n",
    "np.concatenate((even, odd), axis=1)"
   ]
  },
  {
   "cell_type": "markdown",
   "metadata": {},
   "source": [
    "# Задание 2.8 (2 балла)\n",
    "\n",
    "Посчитайте количество строк массива `A`, в который все элементы больше 5. Используйте [np.all()](https://numpy.org/doc/stable/reference/generated/numpy.all.html) "
   ]
  },
  {
   "cell_type": "code",
   "execution_count": 10,
   "metadata": {},
   "outputs": [
    {
     "data": {
      "text/plain": [
       "8"
      ]
     },
     "execution_count": 10,
     "metadata": {},
     "output_type": "execute_result"
    }
   ],
   "source": [
    "A[(A > 5).all(1)].shape[0]"
   ]
  },
  {
   "cell_type": "markdown",
   "metadata": {},
   "source": [
    "# Задание 2.9 (2 балла)\n",
    "\n",
    "Поделите массив `A` горизонтально на 10 частей и создайте новый массив размерности $20 \\times 50$, который является средним этих частей. Используйте [np.split()](https://numpy.org/doc/stable/reference/generated/numpy.split.html)"
   ]
  },
  {
   "cell_type": "code",
   "execution_count": 11,
   "metadata": {},
   "outputs": [
    {
     "data": {
      "text/plain": [
       "array([[55.8, 46.4, 51.8, 62.4, 43.3, 46. , 44.4, 44.2, 53.2, 58.1, 49.9,\n",
       "        38.5, 64.1, 47.3, 56.8, 46.1, 42.2, 59. , 30.4, 46.2, 60.2, 52.6,\n",
       "        56.4, 43.9, 55.5, 45.6, 55.4, 52.2, 52.5, 40.6, 59.9, 69. , 58.2,\n",
       "        58.3, 45.8, 63.4, 49.6, 64.2, 49.8, 52.1, 54.7, 44.4, 46.8, 55.5,\n",
       "        61.5, 58.2, 31.3, 43.9, 63.2, 59. ],\n",
       "       [60.7, 51. , 60.8, 50. , 36. , 52.5, 41.1, 59.9, 52.4, 48.3, 45. ,\n",
       "        51.2, 51.8, 47.1, 32.1, 48.1, 46.5, 40.4, 46.9, 56.5, 62.3, 43.7,\n",
       "        57.9, 33.7, 55.3, 46.2, 47.3, 36.1, 33.7, 37.9, 60.3, 49.2, 52.3,\n",
       "        53.5, 50.9, 31.6, 48.4, 33.1, 52.8, 47.8, 58.4, 49.3, 37. , 40.1,\n",
       "        63.4, 35.8, 36.6, 60.8, 53.9, 53.7],\n",
       "       [55.9, 47.9, 55.9, 61.1, 44.3, 52.6, 45.1, 42. , 34.5, 51.6, 63.4,\n",
       "        51. , 32. , 47.9, 49.7, 56.6, 53.1, 66.1, 48.6, 34.4, 39. , 50.7,\n",
       "        57.2, 49.9, 47. , 61.1, 59.8, 56.7, 64.5, 54.1, 50.4, 42.3, 45.6,\n",
       "        46.2, 49.7, 62.5, 64.2, 43.9, 48.7, 37.9, 63. , 64. , 40.4, 40.7,\n",
       "        69.5, 62.6, 62.1, 61.7, 49. , 50.1],\n",
       "       [41.9, 38.1, 53.1, 49.4, 52.6, 49.2, 54.2, 45.8, 43.8, 41.9, 50.1,\n",
       "        45.4, 32.1, 49.7, 38. , 49. , 54.7, 59.1, 49.1, 46.7, 30.6, 27.5,\n",
       "        48.7, 54.8, 39.3, 49.1, 43.9, 39.5, 53.5, 56. , 58.8, 47. , 59.8,\n",
       "        66.6, 36. , 59.3, 36.9, 42.2, 36.9, 34.4, 65.5, 64.2, 43.7, 49.5,\n",
       "        53.6, 61.6, 57.2, 53.3, 57.7, 61.2],\n",
       "       [78.3, 59.1, 51.9, 57.2, 52. , 51. , 50.4, 54.6, 71.2, 40.4, 51.4,\n",
       "        69.6, 28.7, 46.9, 39. , 44.9, 38.1, 52.2, 60.1, 47. , 48. , 56.4,\n",
       "        62.5, 44.8, 66. , 44.9, 37.6, 46.7, 46.1, 42.6, 49.1, 54.4, 54.6,\n",
       "        53.7, 41.2, 50.3, 58.9, 40.6, 40.1, 53.5, 59.1, 45.9, 60.4, 33.4,\n",
       "        56.3, 44.1, 41.3, 54.3, 48.3, 39.2],\n",
       "       [54. , 51.5, 41.4, 59.9, 54.3, 47.2, 51.7, 46.3, 31.5, 59.6, 45.7,\n",
       "        39.7, 35.2, 41.5, 49.2, 42.2, 35.7, 47.9, 41.9, 57.8, 30.2, 44.8,\n",
       "        48.4, 59.8, 48.3, 35.2, 59.3, 35.4, 35.8, 59.9, 53.4, 59.2, 32.6,\n",
       "        44.5, 54.3, 63.2, 51.8, 56.4, 53. , 55.2, 47.4, 54.6, 56. , 56.5,\n",
       "        49.2, 40. , 41.7, 54.3, 27.6, 54.6],\n",
       "       [33.9, 40.7, 47.8, 61. , 52.6, 50.2, 40.5, 38.9, 50.4, 67.2, 55.5,\n",
       "        54.5, 33.7, 41.5, 57.2, 51.6, 40.1, 36.8, 35.6, 65.7, 56.8, 73.1,\n",
       "        45.3, 47.8, 48. , 59.6, 55.6, 56.7, 56.1, 52.5, 38.6, 54.6, 43.8,\n",
       "        65.1, 54.5, 31.4, 53.6, 51.9, 54.7, 61.4, 37.5, 53.7, 63.1, 35.1,\n",
       "        64.4, 54.4, 44.1, 31.1, 45.9, 28.6],\n",
       "       [38.8, 62.7, 56.7, 48. , 51.5, 47.8, 31.9, 54.5, 58.3, 65.5, 49.9,\n",
       "        60.4, 48.2, 52.1, 39.6, 39.2, 49.8, 52.9, 32.8, 53.1, 60.3, 41.2,\n",
       "        54.9, 66.6, 32.5, 38.7, 35.9, 56.9, 49.4, 58.3, 59.9, 66.1, 37.2,\n",
       "        63.7, 56.4, 50.1, 51.7, 46.6, 36.4, 44.3, 63.8, 48.2, 40. , 36.5,\n",
       "        50.5, 38.8, 65.9, 54.2, 48.5, 42.8],\n",
       "       [45.6, 51.9, 49.1, 67.4, 41.6, 48. , 53.6, 40.8, 53.3, 42.5, 40.8,\n",
       "        58.2, 51.9, 43.5, 40.6, 50.6, 59.3, 51.8, 50.8, 33.7, 47.7, 54.7,\n",
       "        62.6, 58.4, 56.9, 54.8, 33. , 58.4, 51.6, 41.8, 32.5, 55.7, 39.7,\n",
       "        38. , 33.7, 48.7, 56.6, 65.1, 64.4, 50.2, 45.7, 40.6, 49.9, 46.5,\n",
       "        39.7, 47. , 52.8, 54. , 38.9, 53.3],\n",
       "       [62.3, 35. , 50.2, 65.9, 44.8, 33.9, 54.9, 33.5, 47. , 44.3, 51.5,\n",
       "        45.8, 50.1, 62.6, 55.1, 60.3, 49.1, 54.8, 35.4, 44. , 52.9, 28. ,\n",
       "        42.2, 48.1, 61.9, 50.4, 48.8, 45.7, 39.6, 29.7, 45.3, 55.3, 51.8,\n",
       "        46.2, 41.8, 46.8, 66.4, 53.3, 46.2, 38.8, 49.6, 50. , 65.4, 43.4,\n",
       "        39.2, 46.9, 59.3, 47.6, 52.8, 46. ],\n",
       "       [46.1, 54.9, 56. , 49.1, 57.1, 52.3, 62.7, 69. , 62.4, 39.3, 54.7,\n",
       "        63.8, 43.6, 31.3, 50.5, 41.8, 44.7, 60.6, 49.4, 62.6, 60.1, 55.3,\n",
       "        48.9, 43.4, 55.1, 43.1, 46.1, 59.8, 50.6, 39.8, 68.8, 40.8, 47.4,\n",
       "        52.9, 46.9, 40. , 44.3, 38.7, 50.3, 46.1, 41.2, 45.7, 54.6, 47.7,\n",
       "        35.7, 52.2, 27.7, 39.5, 57.4, 48.3],\n",
       "       [66.8, 57.8, 54.8, 33.9, 52.6, 64.1, 40.7, 38.1, 40.4, 47.5, 43.6,\n",
       "        52.2, 50.3, 49.4, 69.7, 61.8, 53.6, 69.8, 58. , 45.6, 76.9, 61.2,\n",
       "        59.7, 58.2, 55.6, 57.4, 23.9, 43.5, 49. , 54.6, 64.4, 41.6, 50.9,\n",
       "        32.3, 53.3, 45.9, 54.1, 36.2, 58.3, 47.6, 52.3, 52.2, 49.7, 47.2,\n",
       "        45.8, 50.5, 61. , 46. , 35.8, 51.3],\n",
       "       [43.6, 33.8, 54.5, 48.3, 42.1, 52.5, 50.1, 53.5, 44. , 43.3, 58.6,\n",
       "        46.9, 27.9, 43. , 36.4, 54.2, 44. , 60. , 51.5, 54.1, 46.8, 48. ,\n",
       "        55.4, 70.6, 68.3, 44. , 50.3, 51.7, 61.8, 52.2, 34.1, 42.8, 34.9,\n",
       "        54.7, 53.2, 59.2, 41.3, 50. , 56.4, 50. , 44.7, 42. , 61.3, 50.4,\n",
       "        38.2, 33.7, 41. , 50.3, 34.9, 46.3],\n",
       "       [46.8, 48.3, 31.2, 55.2, 53.8, 42.7, 52.7, 43.1, 45.8, 39.5, 37.9,\n",
       "        40.3, 67.4, 68.7, 38. , 42.5, 44.8, 47.3, 46.7, 54.2, 52.2, 36.5,\n",
       "        29.4, 41.3, 68. , 53. , 34.2, 47. , 43. , 56.8, 44.3, 65.2, 58.6,\n",
       "        64.6, 46.4, 42.9, 47.9, 45.1, 44.1, 42.8, 59.3, 43.6, 37.5, 52.9,\n",
       "        50.5, 45.9, 64.4, 44. , 41.9, 49.6],\n",
       "       [30.3, 61.8, 53.2, 46.1, 55.7, 52.5, 55.6, 48. , 58.9, 55.2, 51.5,\n",
       "        50.7, 47. , 56.2, 32.9, 33. , 43.4, 49.5, 45.5, 45.5, 57. , 42.2,\n",
       "        62.2, 68.2, 50.7, 46.1, 43.8, 40. , 45.8, 39.8, 52.9, 55.5, 52.3,\n",
       "        54.1, 34.6, 55.9, 37.6, 58.6, 59.5, 55. , 46.2, 56.6, 47.5, 47.9,\n",
       "        38.1, 53.5, 60.5, 63.4, 44.3, 38.2],\n",
       "       [49.6, 47.4, 38.3, 55.3, 39.5, 61.9, 40.3, 53.9, 39. , 54. , 44.7,\n",
       "        44.8, 44.7, 59.8, 45.1, 52.2, 52.3, 48. , 50.2, 40.1, 39.5, 24.2,\n",
       "        46. , 54.7, 52. , 58.2, 45.9, 40.7, 52. , 69.8, 36.1, 40.3, 34.8,\n",
       "        44. , 35.8, 39.1, 46.8, 47.3, 69.2, 60.5, 49.3, 55.2, 53.9, 48.2,\n",
       "        46.7, 55.7, 43.3, 62.1, 60.9, 33.1],\n",
       "       [52.7, 32.4, 38.8, 40.5, 43.2, 44.6, 46.6, 45.6, 63.5, 58.3, 47. ,\n",
       "        44.4, 59.2, 43.6, 66.8, 45.3, 49.1, 32.1, 56.1, 61.7, 63.5, 44.1,\n",
       "        44.9, 53. , 49. , 26.1, 54.6, 57.2, 49.8, 44.6, 72.6, 45. , 57.6,\n",
       "        62.2, 69.8, 52.1, 44.8, 45.1, 54.3, 55.7, 50.1, 58.6, 55.4, 71. ,\n",
       "        45.4, 48.1, 55. , 45.7, 49.5, 54.6],\n",
       "       [70.6, 21.2, 30.4, 61.7, 27.2, 30.7, 36. , 56.6, 44.1, 33.6, 37.4,\n",
       "        66.3, 46.8, 43.3, 52.1, 41.7, 54.1, 54.3, 34.4, 55.9, 55.2, 49.7,\n",
       "        52.8, 55.1, 38.6, 53.5, 58.1, 52.8, 51.7, 45.1, 35.4, 31.9, 47.8,\n",
       "        39. , 52.9, 53.4, 55.1, 49.7, 42. , 52.2, 36.5, 41.7, 58.6, 50.2,\n",
       "        57.9, 46. , 40.7, 48.5, 54.8, 45.8],\n",
       "       [44.2, 64.8, 51.6, 50.1, 62.5, 49.2, 48.4, 32.1, 48.4, 35.7, 37.9,\n",
       "        43.9, 49. , 16.4, 55.6, 64.3, 42. , 48.5, 46.1, 40.2, 51.7, 63.2,\n",
       "        25.3, 43.5, 56. , 62.2, 56.4, 61.7, 56. , 45. , 45. , 74. , 61.9,\n",
       "        44.6, 34.3, 61.2, 61.5, 29.4, 53.9, 41.1, 47. , 50.3, 55.2, 44.3,\n",
       "        56. , 46.2, 57.5, 33.6, 45.2, 39.6],\n",
       "       [63.2, 40.7, 58.8, 45.1, 46.4, 41.3, 33.6, 47.5, 61.4, 56.5, 53. ,\n",
       "        41.2, 59.4, 45.7, 57.8, 32.3, 51.3, 49.2, 52.3, 57.9, 54.3, 37.9,\n",
       "        57.8, 35.5, 54.1, 57.8, 50.5, 27.9, 57.3, 36.9, 52.2, 53.4, 57.7,\n",
       "        57.4, 35.9, 49.7, 54.4, 50.6, 35.4, 49.5, 46.6, 62. , 60.3, 47.1,\n",
       "        49.4, 50.6, 35.3, 39.7, 57.2, 36. ]])"
      ]
     },
     "execution_count": 11,
     "metadata": {},
     "output_type": "execute_result"
    }
   ],
   "source": [
    "splitted_A = np.array(np.split(A, range(20, 200, 20)))\n",
    "splitted_A.mean(axis=0)"
   ]
  },
  {
   "cell_type": "markdown",
   "metadata": {},
   "source": [
    "# Задание 2.10 (4 балла)\n",
    "\n",
    "\"Разверните\" массив `A` в одномерный массив. Оставьте в нём только уникальные элементы в том же порядке, в котором они встречаются в массиве. Используйте [np.unique()](https://numpy.org/doc/stable/reference/generated/numpy.unique.html)"
   ]
  },
  {
   "cell_type": "code",
   "execution_count": 12,
   "metadata": {},
   "outputs": [
    {
     "data": {
      "text/plain": [
       "array([70, 65, 78,  1, 31, 60, 42, 26, 81, 44, 64, 22, 36, 91, 76, 58, 82,\n",
       "       25, 30, 29, 35, 93, 68,  0, 71, 21, 34, 20, 95, 99,  7, 24, 40, 87,\n",
       "       43, 46, 11, 18, 49, 97, 57, 83, 96, 52, 59, 47, 61, 54, 38,  4, 80,\n",
       "       23, 27, 28, 74, 69, 75, 77, 12,  5, 39,  3, 89, 10, 85, 73, 56,  2,\n",
       "       94, 92,  9, 41, 15, 55, 50, 63, 67, 13, 62, 53, 19, 90, 45, 32, 37,\n",
       "        6, 51, 16, 98, 72, 17, 66,  8, 48, 33, 88, 14, 86, 84, 79])"
      ]
     },
     "execution_count": 12,
     "metadata": {},
     "output_type": "execute_result"
    }
   ],
   "source": [
    "A_flat = A.flatten()\n",
    "a, ind = np.unique(A_flat, return_index=True)\n",
    "A_flat[np.sort(ind)]"
   ]
  },
  {
   "cell_type": "markdown",
   "metadata": {},
   "source": [
    "# Задание 2.11 (3 балла)\n",
    "\n",
    "Создайте одномерный массив размерности $200$, в котором каждый элемент - евклидово расстояние между соответствующей строкой `A` и \"средней\" строкой `A`"
   ]
  },
  {
   "cell_type": "code",
   "execution_count": 13,
   "metadata": {},
   "outputs": [
    {
     "data": {
      "text/plain": [
       "array([309.65787573, 275.54854382, 304.74743641, 298.23313029,\n",
       "       310.29824363, 300.21492301, 307.27186659, 341.78209432,\n",
       "       257.39463864, 285.39271189, 295.51480504, 300.55615116,\n",
       "       281.9787226 , 275.67009268, 261.66581741, 271.67443752,\n",
       "       280.65281043, 300.61104437, 255.46428322, 236.70023236,\n",
       "       285.10699746, 277.22193275, 273.17942822, 313.54266057,\n",
       "       318.19490882, 296.61591326, 282.9664291 , 292.82247182,\n",
       "       297.55839763, 284.49428817, 288.6243233 , 332.46052397,\n",
       "       278.91934318, 255.37423519, 297.28942127, 313.40389276,\n",
       "       306.18295184, 284.26396184, 289.58418465, 277.20750351,\n",
       "       308.62598724, 272.42797213, 256.91049025, 276.82666057,\n",
       "       275.88222125, 302.20522828, 300.82220663, 301.13452144,\n",
       "       284.68052269, 295.82089176, 319.62947298, 280.03214101,\n",
       "       221.62806681, 301.75321042, 288.21519738, 255.1587741 ,\n",
       "       311.35831449, 274.35925353, 310.58010239, 260.42465321,\n",
       "       289.82235939, 249.21075418, 300.45465548, 288.0555502 ,\n",
       "       273.74440634, 284.04049007, 277.06858357, 267.43597365,\n",
       "       324.33470366, 258.10462995, 291.11337997, 258.83585532,\n",
       "       299.64979559, 267.03557815, 287.83675929, 273.05860177,\n",
       "       315.85756283, 275.76076588, 272.91573791, 280.3248116 ,\n",
       "       313.29538777, 300.13330372, 296.12328514, 274.93453766,\n",
       "       313.05909985, 304.99836065, 247.38229524, 318.30017279,\n",
       "       310.74909493, 315.91137998, 316.24199595, 285.11576596,\n",
       "       265.47881271, 308.32288271, 278.20316317, 293.74648934,\n",
       "       309.81930217, 290.06378609, 255.23518566, 259.62087743,\n",
       "         0.        , 311.01768438, 256.5794224 , 283.05123211,\n",
       "       272.50688065, 304.708057  , 272.65729405, 315.13489175,\n",
       "       263.26602515, 271.58976417, 320.78497471, 304.99672129,\n",
       "       284.61025983, 313.78814509, 283.06889621, 299.13207785,\n",
       "       289.52892774, 281.5972301 , 311.34386135, 299.8983161 ,\n",
       "       319.62321568, 303.21444557, 307.33369487, 243.31461115,\n",
       "       288.23948376, 271.15493726, 277.8236851 , 297.98489895,\n",
       "       296.9377039 , 270.16476454, 279.50134168, 319.59818523,\n",
       "       252.47772179, 312.05928924, 281.94680349, 309.71761332,\n",
       "       301.10961459, 251.10754668, 295.84962396, 298.82603635,\n",
       "       281.9521236 , 287.58477011, 261.70976291, 287.26294575,\n",
       "       315.53605182, 280.18565274, 248.67448603, 278.84762864,\n",
       "       250.65913109, 299.31087518, 267.56494539, 316.43798761,\n",
       "       293.82647941, 336.69273826, 336.56202994, 261.37329626,\n",
       "       283.40077629, 258.40665626, 292.46880175, 329.59368926,\n",
       "       329.85148173, 291.13227234, 311.        , 300.07499063,\n",
       "       261.8530122 , 289.30952283, 257.70331779, 280.38723223,\n",
       "       318.87144745, 284.02816762, 293.93876913, 256.5248526 ,\n",
       "       311.04340533, 336.36141277, 280.11604738, 295.64505746,\n",
       "       297.88084866, 272.37107042, 262.65757175, 265.68590478,\n",
       "       282.94345725, 293.65796431, 268.94423214, 254.68215485,\n",
       "       299.57469853, 317.34996455, 332.4530042 , 280.31589323,\n",
       "       261.74988061, 282.96289509, 273.41543482, 267.578026  ,\n",
       "       288.88752136, 291.14085938, 310.90995481, 300.86874215,\n",
       "       302.62848511, 245.05917653, 314.86981437, 325.31523174])"
      ]
     },
     "execution_count": 13,
     "metadata": {},
     "output_type": "execute_result"
    }
   ],
   "source": [
    "m = A.shape[0] // 2\n",
    "a = np.tile(A[m], (200,1))\n",
    "np.linalg.norm(A - a, axis=1)"
   ]
  },
  {
   "cell_type": "markdown",
   "metadata": {},
   "source": [
    "# Задание 2.12 (2 балла)\n",
    "\n",
    "Создайте новый массив, который состоит из элементов `A`, измененных по следующим правилам:\n",
    "- если элемент меньше $50$, то он умножается на $2$\n",
    "- в противном случае он умножается на $3$\n",
    "\n",
    "Используйте [np.where()](https://numpy.org/doc/stable/reference/generated/numpy.where.html)"
   ]
  },
  {
   "cell_type": "code",
   "execution_count": 14,
   "metadata": {},
   "outputs": [
    {
     "data": {
      "text/plain": [
       "array([[210, 195, 210, ...,  80, 249, 288],\n",
       "       [156, 177,  94, ..., 255, 219,  80],\n",
       "       [ 56, 168, 174, ..., 255,   0,  38],\n",
       "       ...,\n",
       "       [ 32,  32,  14, ..., 171, 246,  10],\n",
       "       [ 46, 246, 198, ...,  48,  34, 186],\n",
       "       [ 86, 162,  70, ..., 219, 216,  26]])"
      ]
     },
     "execution_count": 14,
     "metadata": {},
     "output_type": "execute_result"
    }
   ],
   "source": [
    "np.where(A < 50, A * 2, A * 3)"
   ]
  },
  {
   "cell_type": "markdown",
   "metadata": {},
   "source": [
    "# Задание 2.13 (7 баллов)\n",
    "\n",
    "Разверните массив `A` в одномерный массив. Создайте три новых массива, подсчитав скользящие средние по окнам $3$, $5$, $10$. Найдите сумму этих массивов, выровнив из размерности нулями справа\n",
    "\n",
    "*Tip: реализуйте функцию, которая считает скользящее среднее. Используйте [np.cumsum()](https://numpy.org/doc/stable/reference/generated/numpy.cumsum.html) или [np.convolve()](https://numpy.org/doc/stable/reference/generated/numpy.convolve.html)*"
   ]
  },
  {
   "cell_type": "code",
   "execution_count": 15,
   "metadata": {},
   "outputs": [
    {
     "data": {
      "text/plain": [
       "array([  0.        ,  68.33333333, 127.8       , ..., 132.73333333,\n",
       "        52.66666667,   0.        ])"
      ]
     },
     "execution_count": 15,
     "metadata": {},
     "output_type": "execute_result"
    }
   ],
   "source": [
    "A_flat = A.flatten()\n",
    "\n",
    "def moving_average(a, n=5) :\n",
    "    ret = np.cumsum(a, dtype=float)\n",
    "    ret[n:] = ret[n:] - ret[:-n]\n",
    "    return ret[n - 1:] / n\n",
    "\n",
    "A_flat_ma_3 = moving_average(A_flat, n=3)\n",
    "A_flat_ma_5 = moving_average(A_flat, n=5)\n",
    "A_flat_ma_10 = moving_average(A_flat, n=10)\n",
    "\n",
    "A_flat_ma_3 = np.pad(A_flat_ma_3, (1, 1), 'constant', constant_values=(0, 0))\n",
    "A_flat_ma_5 = np.pad(A_flat_ma_5, (2, 2), 'constant', constant_values=(0, 0))\n",
    "A_flat_ma_10 = np.pad(A_flat_ma_10, (5, 4), 'constant', constant_values=(0, 0))\n",
    "\n",
    "A_flat_ma_3 + A_flat_ma_5 + A_flat_ma_10"
   ]
  },
  {
   "cell_type": "markdown",
   "metadata": {},
   "source": [
    "# Задание 2.14 (8 баллов)\n",
    "\n",
    "Постройте график функции $$f(x) = (5  \\sin(2x) - \\cos^2(x) - 1 + |x^3| - x^2) / (x^2 + 1)$$  \n",
    "\n",
    "и производной от этой функции.  Найдите минимум с помощью `scipy` и обозначьте его на графике. На этой же оси постройте графики скользящего среднего этой функции с окном $1$, $2$, $5$."
   ]
  },
  {
   "cell_type": "code",
   "execution_count": 16,
   "metadata": {},
   "outputs": [
    {
     "data": {
      "text/plain": [
       "<matplotlib.legend.Legend at 0x1c120593370>"
      ]
     },
     "execution_count": 16,
     "metadata": {},
     "output_type": "execute_result"
    },
    {
     "data": {
      "image/png": "[encoded data removed]",
      "text/plain": [
       "<Figure size 640x480 with 1 Axes>"
      ]
     },
     "metadata": {},
     "output_type": "display_data"
    }
   ],
   "source": [
    "def f(x):\n",
    "    return (5 * np.sin(2*x) - np.cos(x)**2 - 1 + abs(x**3) - x**2) / (x**2 + 1)\n",
    "\n",
    "# import sympy\n",
    "# x = sympy.Symbol('x')\n",
    "# y = (5 * sympy.sin(2*x) - sympy.cos(x)**2 - 1 + -x**3 - x**2) / (x**2 + 1)\n",
    "# yprime = y.diff()\n",
    "# print(yprime)\n",
    "# print('asdfads', yprime.subs(x, -5).evalf())\n",
    "# fprime = lambdify(x, yprime, 'numpy')\n",
    "\n",
    "# print(sympy.Float(yprime.subs(x, -5).evalf()))\n",
    "\n",
    "x_X = np.linspace(-10,10,1000)\n",
    "# real_der = [sympy.Float(yprime.subs(x, i).evalf()) for i in list(x_X)]\n",
    "\n",
    "\n",
    "\n",
    "# print(scipy.misc.derivative(f, -5))\n",
    "# real_der = [scipy.misc.derivative(f, i) for i in x]\n",
    "\n",
    "plt.plot(x_X, f(x_X))\n",
    "# plt.plot(x_X, real_der)\n",
    "plt.plot(x_X[1:], np.diff(f(x_X)) / np.diff(x_X))\n",
    "\n",
    "from scipy import optimize\n",
    "minimum = optimize.minimize(f, x0=0)\n",
    "plt.scatter(minimum.x, minimum.fun)\n",
    "\n",
    "def moving_average(a, n=5) :\n",
    "    ret = np.cumsum(a, dtype=float)\n",
    "    ret[n:] = ret[n:] - ret[:-n]\n",
    "    return ret[n - 1:] / n\n",
    "\n",
    "# они почти совпадают друг с другом\n",
    "plt.plot(moving_average(x_X, n=1), moving_average(f(x_X), n=1), label='moving average 1')\n",
    "plt.plot(moving_average(x_X, n=2), moving_average(f(x_X), n=2), label='moving average 2')\n",
    "plt.plot(moving_average(x_X, n=5), moving_average(f(x_X), n=5), label='moving average 5')\n",
    "plt.legend()"
   ]
  },
  {
   "cell_type": "markdown",
   "metadata": {},
   "source": [
    "# Задание 2.15 (10 баллов)\n",
    "\n",
    "Есть следующий алгоритм семплинирования, на вход функции подается вектор из целых положительных чисел и число семплов."
   ]
  },
  {
   "cell_type": "code",
   "execution_count": 19,
   "metadata": {},
   "outputs": [
    {
     "data": {
      "text/plain": [
       "[0, 4, 4, 4, 0]"
      ]
     },
     "execution_count": 19,
     "metadata": {},
     "output_type": "execute_result"
    }
   ],
   "source": [
    "from typing import List \n",
    "\n",
    "def sample(x: List[int], c: int) -> List[int]:\n",
    "    assert len(x) > 0\n",
    "    \n",
    "    s = np.sum(x)\n",
    "    res = []\n",
    "    for _ in range(c):\n",
    "        val = s * np.random.random()\n",
    "        cur, idx = 0, 0        \n",
    "        while cur + x[idx] <= val:\n",
    "            cur += x[idx]\n",
    "            idx += 1\n",
    "            \n",
    "        res.append(idx)\n",
    "    return res\n",
    "\n",
    "            \n",
    "sample([50, 3, 1, 7, 20], 5)   "
   ]
  },
  {
   "cell_type": "markdown",
   "metadata": {},
   "source": [
    "Реализуйте данный алгоритм более оптимальным способом на массивах `numpy`, без использования циклов. Проверьте корректность и идентичность алгоритмов семплирования с помощью статистических тестов."
   ]
  },
  {
   "cell_type": "code",
   "execution_count": 20,
   "metadata": {},
   "outputs": [
    {
     "name": "stdout",
     "output_type": "stream",
     "text": [
      "[4, 0, 3, 1, 4]\n"
     ]
    }
   ],
   "source": [
    "def sample_fast(x, c):\n",
    "    assert len(x) > 0\n",
    "    \n",
    "    s = np.sum(x)\n",
    "\n",
    "    def f11(ranf):\n",
    "        val = s * ranf\n",
    "        cusum = np.cumsum(x)\n",
    "        idx = np.searchsorted(cusum, val)\n",
    "        return idx\n",
    "\n",
    "    agr = np.random.random(c)\n",
    "    g = f11(agr)\n",
    "    return list(g)\n",
    "\n",
    "            \n",
    "print(sample_fast([50, 3, 1, 7, 20], 5))"
   ]
  },
  {
   "cell_type": "code",
   "execution_count": 21,
   "metadata": {},
   "outputs": [],
   "source": [
    "_1 = sample([50, 3, 1, 7, 20], 1_000_000)\n",
    "_2 = sample_fast([50, 3, 1, 7, 20], 1_000_000)"
   ]
  },
  {
   "cell_type": "code",
   "execution_count": 22,
   "metadata": {},
   "outputs": [
    {
     "data": {
      "text/plain": [
       "(array([617036.,      0.,  37317.,      0.,      0.,  12351.,      0.,\n",
       "         86498.,      0., 246798.]),\n",
       " array([0. , 0.4, 0.8, 1.2, 1.6, 2. , 2.4, 2.8, 3.2, 3.6, 4. ]),\n",
       " <BarContainer object of 10 artists>)"
      ]
     },
     "execution_count": 22,
     "metadata": {},
     "output_type": "execute_result"
    },
    {
     "data": {
      "image/png": "[encoded data removed]",
      "text/plain": [
       "<Figure size 640x480 with 1 Axes>"
      ]
     },
     "metadata": {},
     "output_type": "display_data"
    }
   ],
   "source": [
    "plt.hist(_1)"
   ]
  },
  {
   "cell_type": "code",
   "execution_count": 23,
   "metadata": {},
   "outputs": [
    {
     "data": {
      "text/plain": [
       "(array([617235.,      0.,  36490.,      0.,      0.,  12367.,      0.,\n",
       "         86799.,      0., 247109.]),\n",
       " array([0. , 0.4, 0.8, 1.2, 1.6, 2. , 2.4, 2.8, 3.2, 3.6, 4. ]),\n",
       " <BarContainer object of 10 artists>)"
      ]
     },
     "execution_count": 23,
     "metadata": {},
     "output_type": "execute_result"
    },
    {
     "data": {
      "image/png": "[encoded data removed]",
      "text/plain": [
       "<Figure size 640x480 with 1 Axes>"
      ]
     },
     "metadata": {},
     "output_type": "display_data"
    }
   ],
   "source": [
    "plt.hist(_2)"
   ]
  },
  {
   "cell_type": "code",
   "execution_count": 24,
   "metadata": {},
   "outputs": [
    {
     "name": "stdout",
     "output_type": "stream",
     "text": [
      "Мат ожидания 1.308705 1.310057\n",
      "Дисперсия 1.761040096924258 1.7619999025967623\n"
     ]
    }
   ],
   "source": [
    "print('Мат ожидания', np.mean(_1), np.mean(_2))\n",
    "print('Дисперсия', np.std(_1), np.std(_2))"
   ]
  },
  {
   "cell_type": "markdown",
   "metadata": {},
   "source": [
    "# Задание 2.16 (5 баллов)\n",
    "\n",
    "Есть следующий алгоритм \"случайного блуждания\""
   ]
  },
  {
   "cell_type": "code",
   "execution_count": 3,
   "metadata": {},
   "outputs": [
    {
     "data": {
      "text/plain": [
       "2003"
      ]
     },
     "execution_count": 3,
     "metadata": {},
     "output_type": "execute_result"
    }
   ],
   "source": [
    "import random \n",
    "\n",
    "def walk(n: int):\n",
    "    cur_position = 0\n",
    "    for i in range(n):\n",
    "        cur_position += random.choice([-3, -1, 0, 2, 3])\n",
    "\n",
    "    return cur_position\n",
    "\n",
    "walk(10_000)"
   ]
  },
  {
   "cell_type": "markdown",
   "metadata": {},
   "source": [
    "Реализуйте более эффективную версию с помощью `numpy`, сравните производительность (используя, например, magic `timeit`). Воспользовавшись [kdeplot()](https://seaborn.pydata.org/generated/seaborn.kdeplot.html) или аналогами, постройте график распределения значений `walk(10_000)` на каком-то разумном числе запусков. "
   ]
  },
  {
   "cell_type": "code",
   "execution_count": 25,
   "metadata": {},
   "outputs": [
    {
     "name": "stdout",
     "output_type": "stream",
     "text": [
      "211 µs ± 4.61 µs per loop (mean ± std. dev. of 7 runs, 1000 loops each)\n"
     ]
    },
    {
     "data": {
      "image/png": "[encoded data removed]",
      "text/plain": [
       "<Figure size 640x480 with 1 Axes>"
      ]
     },
     "metadata": {},
     "output_type": "display_data"
    }
   ],
   "source": [
    "import numpy \n",
    "\n",
    "def walk(n: int):\n",
    "    return np.sum(np.random.choice(np.array([-3, -1, 0, 2, 3]), size=(n, )))\n",
    "\n",
    "%timeit walk(10_000)\n",
    "\n",
    "sns.kdeplot([walk(10_000) for _ in range(10_000)])\n",
    "plt.show()"
   ]
  },
  {
   "cell_type": "markdown",
   "metadata": {},
   "source": [
    "# Задание 2.17 (5 баллов)\n",
    "\n",
    "Имеется функция, которая проделывает достаточно странные манипуляции с массивом `numpy`"
   ]
  },
  {
   "cell_type": "code",
   "execution_count": 27,
   "metadata": {},
   "outputs": [
    {
     "data": {
      "text/plain": [
       "0.041429420975518966"
      ]
     },
     "execution_count": 27,
     "metadata": {},
     "output_type": "execute_result"
    }
   ],
   "source": [
    "import numpy.typing as npt\n",
    "\n",
    "def strange_conv(a: npt.NDArray[np.float64]) -> np.float64:\n",
    "    x = a.shape[0]\n",
    "    y = a.shape[1]\n",
    "\n",
    "    t = 1.\n",
    "    for y in range(y - 5):\n",
    "        for x in range(x - 3):\n",
    "            c = 1.5 * a[y+1, x+2] - a[y+5, x+3] * a[y, x] + 0.2 * a[y+4, x]\n",
    "            t = 0.2 * t + 0.8 * c\n",
    "\n",
    "    return t\n",
    "\n",
    "\n",
    "a = np.random.random((10000, 10000))\n",
    "strange_conv(a)\n"
   ]
  },
  {
   "cell_type": "markdown",
   "metadata": {},
   "source": [
    "Оптимизируйте данную функцию с помощью (2 на выбор):\n",
    "- [Numba](https://numba.pydata.org)\n",
    "- `Cython` (+5 баллов)\n",
    "- [Taichi](https://github.com/taichi-dev/taichi) (+5 баллов)\n",
    "- `Pythran `[[1]](https://pythran.readthedocs.io/en/latest/), [[2]](https://serge-sans-paille.github.io/pythran-stories/pythran-tutorial.html) (+2 балла)\n",
    "\n",
    "Сравните производительность."
   ]
  },
  {
   "cell_type": "code",
   "execution_count": 28,
   "metadata": {},
   "outputs": [
    {
     "name": "stdout",
     "output_type": "stream",
     "text": [
      "41.9 ms ± 4.49 ms per loop (mean ± std. dev. of 7 runs, 1 loop each)\n"
     ]
    }
   ],
   "source": [
    "from numba import njit\n",
    "\n",
    "@njit\n",
    "def strange_conv(a: npt.NDArray[np.float64]) -> np.float64:\n",
    "    x = a.shape[0]\n",
    "    y = a.shape[1]\n",
    "\n",
    "    t = 1.\n",
    "    for y in range(y - 5):\n",
    "        for x in range(x - 3):\n",
    "            c = 1.5 * a[y+1, x+2] - a[y+5, x+3] * a[y, x] + 0.2 * a[y+4, x]\n",
    "            t = 0.2 * t + 0.8 * c\n",
    "\n",
    "    return t\n",
    "\n",
    "a = np.random.random((10000, 10000))\n",
    "\n",
    "%timeit strange_conv(a)"
   ]
  },
  {
   "cell_type": "code",
   "execution_count": 29,
   "metadata": {},
   "outputs": [
    {
     "name": "stdout",
     "output_type": "stream",
     "text": [
      "[Taichi] version 1.2.1, llvm 10.0.0, commit 12ab828a, win, python 3.8.13\n",
      "[Taichi] Starting on arch=x64\n",
      "375 ms ± 3.84 ms per loop (mean ± std. dev. of 7 runs, 1 loop each)\n"
     ]
    }
   ],
   "source": [
    "# !pip install taichi \n",
    "import taichi as ti\n",
    "ti.init()\n",
    "\n",
    "@ti.kernel\n",
    "def strange_conv(a: ti.template()) -> ti.types.float64:\n",
    "    xx = a.shape[0]\n",
    "    yy = a.shape[1]\n",
    "\n",
    "    t = 1.\n",
    "    for y in range(yy - 5):\n",
    "        for x in range(xx - 3):\n",
    "            c = 1.5 * a[y+1, x+2] - a[y+5, x+3] * a[y, x] + 0.2 * a[y+4, x]\n",
    "            t = 0.2 * t + 0.8 * c\n",
    "\n",
    "    return t\n",
    "\n",
    "\n",
    "a = np.random.random((10000, 10000))\n",
    "x = ti.field(float, shape=a.shape)\n",
    "x.from_numpy(a)\n",
    "\n",
    "%timeit strange_conv(x)"
   ]
  }
 ],
 "metadata": {
  "kernelspec": {
   "display_name": "Python 3 (ipykernel)",
   "language": "python",
   "name": "python3"
  },
  "language_info": {
   "codemirror_mode": {
    "name": "ipython",
    "version": 3
   },
   "file_extension": ".py",
   "mimetype": "text/x-python",
   "name": "python",
   "nbconvert_exporter": "python",
   "pygments_lexer": "ipython3",
   "version": "3.8.13"
  },
  "vscode": {
   "interpreter": {
    "hash": "916dbcbb3f70747c44a77c7bcd40155683ae19c65e1c03b4aa3499c5328201f1"
   }
  }
 },
 "nbformat": 4,
 "nbformat_minor": 2
}
